{
 "cells": [
  {
   "cell_type": "code",
   "execution_count": 2,
   "metadata": {
    "collapsed": false
   },
   "outputs": [
    {
     "name": "stdout",
     "output_type": "stream",
     "text": [
      "Technology News: \n",
      "\n",
      "ISPs who don't want competition get good news from FCC chair. FCC to kill merger condition that required competition in 1 million locations....Amazon cuts variable standard program fee rates from their affiliate program, effectively halving payout to many tech reviewers...Sony Announces World's Fastest SD Cards at 300 MB/s...Samsung ready to Launch Galaxy S8 in April 21 2017...Samsung to conduct UK's first 5G trials with Arqiva...Facebook introduce new feature You can add Your Country's Flags To Your Display Picture...Airbnb finalizes deal to buy social payment startup Tilt....Google fights online trolls with new tool...Inside Uber's Aggressive, Unrestrained Workplace Culture...AMD's new Ryzen processor is a huge leap forward and a true competitor to Intel\n"
     ]
    }
   ],
   "source": [
    "# Code for Alexa Skill using Python and Flask\n",
    "\n",
    "from flask import Flask, render_template\n",
    "from flask_ask import Ask, statement, question, session\n",
    "\n",
    "# To interact with Reddit API\n",
    "import json\n",
    "import requests\n",
    "\n",
    "# For time functions like delay\n",
    "import time\n",
    "\n",
    "# To decode some text in title\n",
    "import unidecode\n",
    "\n",
    "\n",
    "app = Flask(__name__)\n",
    "ask = Ask(app,'/reddit_reader')\n",
    "\n",
    "# Function to fetch Headlines from Reddit.com\n",
    "def get_headlines():\n",
    "    user_pass_dict = {'user': 'USERNAME',\n",
    "                      'password': 'PASSWORD',\n",
    "                      'api_type':'json'}\n",
    "    sess = requests.Session()\n",
    "    sess.headers.update({'User-Agent':'Alexa Testing'})\n",
    "    sess.post('https://www.reddit.com/api/login',data=user_pass_dict)\n",
    "    time.sleep(1)\n",
    "    url = 'https://www.reddit.com/r/technews/.json?limit=10'\n",
    "    html = sess.get(url)\n",
    "    data = json.loads(html.content.decode('utf-8'))\n",
    "    titles = [unidecode.unidecode(listing['data']['title']) for listing in data['data']['children']]\n",
    "    titles = '...'.join([i for i in titles])\n",
    "    return titles\n",
    "\n",
    "# Testing Reddit API\n",
    "print('Technology News: \\n')\n",
    "titles = get_headlines()\n",
    "print(titles)\n",
    "\n",
    "# Building a webpage to enter into Alexa Skill Set Requirements\n",
    "# www.website.com/reddit_reader\n",
    "@app.route('/')\n",
    "def homepage():\n",
    "    return 'Hello, how are you doing today ?'\n",
    "\n",
    "# Alexa: Ask a question at startup\n",
    "@ask.launch\n",
    "def start_skill():\n",
    "    welcome_message = 'Hello there, would you like to know the news ?'\n",
    "    return question(welcome_message)\n",
    "\n",
    "\n",
    "# If the User replies a YES, grab the headlines and Alexa speaks them.\n",
    "@ask.intent('YesIntent')\n",
    "def speak_headlines():\n",
    "    # Grab the headlines as text\n",
    "    headlines = get_headlines()\n",
    "    # Format the message and return it as one statement\n",
    "    headline_msg = 'The latest technology news is {}'.format(headlines)\n",
    "    return statement(headline_msg)\n",
    "\n",
    "\n",
    "# If the User replies a NO, return an exit message.\n",
    "@ask.intent('NoIntent')\n",
    "def no_intent():\n",
    "    headline_msg = 'I am not sure why you asked me to run then, but okay...bye'\n",
    "    return statement(headline_msg)\n",
    "\n",
    "#if __name__ == '__main__':\n",
    "#    app.run(debug=True)\n"
   ]
  },
  {
   "cell_type": "code",
   "execution_count": null,
   "metadata": {
    "collapsed": true
   },
   "outputs": [],
   "source": []
  }
 ],
 "metadata": {
  "kernelspec": {
   "display_name": "Python 3",
   "language": "python",
   "name": "python3"
  },
  "language_info": {
   "codemirror_mode": {
    "name": "ipython",
    "version": 3
   },
   "file_extension": ".py",
   "mimetype": "text/x-python",
   "name": "python",
   "nbconvert_exporter": "python",
   "pygments_lexer": "ipython3",
   "version": "3.5.3"
  }
 },
 "nbformat": 4,
 "nbformat_minor": 2
}
