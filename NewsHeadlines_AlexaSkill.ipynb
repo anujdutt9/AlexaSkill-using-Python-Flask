{
 "cells": [
  {
   "cell_type": "code",
   "execution_count": 1,
   "metadata": {
    "collapsed": false
   },
   "outputs": [
    {
     "name": "stdout",
     "output_type": "stream",
     "text": [
      "World Headlines: \n",
      "\n",
      "Kim Jong Nam assassin was paid $90...Mexico threatens trade war over Trump wall tax...King of Sweden stresses need for 'serious' media and source checking after Donald Trump's immigration claims...Students at breaking point: Hong Kong announces emergency measures after 22 suicides since the start of the academic year...Australian children's author Mem Fox detained by US border control: 'I sobbed like a baby.' Author of Possum Magic was aggressively questioned for two hours over her visa status and later recieved an apology for her treatment by border guards....A Syrian cinematographer has been barred from entering the United States to attend the Oscars...Canada sees huge surge of refugees and asylum seekers crossing from the United States on foot...France's Hollande fires back at Trump over Paris comments...BBC among news media blocked from White House news briefing - Trump administration hand-selected news outlets for the meeting...Fox New's fake expert on violent immigrants in Sweden turns out to be a violent Swedish immigrant in the US, Swedish media reports.\n"
     ]
    }
   ],
   "source": [
    "# Code for Alexa Skill using Python and Flask\n",
    "\n",
    "from flask import Flask, render_template\n",
    "from flask_ask import Ask, statement, question, session\n",
    "\n",
    "# To interact with Reddit API\n",
    "import json\n",
    "import requests\n",
    "\n",
    "# For time functions like delay\n",
    "import time\n",
    "\n",
    "# To decode some text in title\n",
    "import unidecode\n",
    "\n",
    "\n",
    "app = Flask(__name__)\n",
    "ask = Ask(app,'/reddit_reader')\n",
    "\n",
    "# Function to fetch Headlines from Reddit.com\n",
    "def get_headlines():\n",
    "    user_pass_dict = {'user': 'USERNAME',\n",
    "                      'password': 'PASSWORD',\n",
    "                      'api_type':'json'}\n",
    "    sess = requests.Session()\n",
    "    sess.headers.update({'User-Agent':'Alexa Testing'})\n",
    "    sess.post('https://www.reddit.com/api/login',data=user_pass_dict)\n",
    "    time.sleep(1)\n",
    "    url = 'https://www.reddit.com/r/worldnews/.json?limit=10'\n",
    "    html = sess.get(url)\n",
    "    data = json.loads(html.content.decode('utf-8'))\n",
    "    titles = [unidecode.unidecode(listing['data']['title']) for listing in data['data']['children']]\n",
    "    titles = '...'.join([i for i in titles])\n",
    "    return titles\n",
    "\n",
    "# Testing Reddit API\n",
    "print('World Headlines: \\n')\n",
    "titles = get_headlines()\n",
    "print(titles)\n",
    "\n",
    "# Building a webpage to enter into Alexa Skill Set Requirements\n",
    "# www.website.com/reddit_reader\n",
    "@app.route('/')\n",
    "def homepage():\n",
    "    return 'Hello, how are you doing today ?'\n",
    "\n",
    "# Alexa: Ask a question at startup\n",
    "@ask.launch\n",
    "def start_skill():\n",
    "    welcome_message = 'Hello there, would you like to know the news ?'\n",
    "    return question(welcome_message)\n",
    "\n",
    "\n",
    "# If the User replies a YES, grab the headlines and Alexa speaks them.\n",
    "@ask.intent('YesIntent')\n",
    "def speak_headlines():\n",
    "    # Grab the headlines as text\n",
    "    headlines = get_headlines()\n",
    "    # Format the message and return it as one statement\n",
    "    headline_msg = 'The latest technology news is {}'.format(headlines)\n",
    "    return statement(headline_msg)\n",
    "\n",
    "\n",
    "# If the User replies a NO, return an exit message.\n",
    "@ask.intent('NoIntent')\n",
    "def no_intent():\n",
    "    headline_msg = 'I am not sure why you asked me to run then, but okay...bye'\n",
    "    return statement(headline_msg)\n",
    "\n",
    "#if __name__ == '__main__':\n",
    "#    app.run(debug=True)\n"
   ]
  },
  {
   "cell_type": "code",
   "execution_count": null,
   "metadata": {
    "collapsed": true
   },
   "outputs": [],
   "source": []
  }
 ],
 "metadata": {
  "kernelspec": {
   "display_name": "Python 3",
   "language": "python",
   "name": "python3"
  },
  "language_info": {
   "codemirror_mode": {
    "name": "ipython",
    "version": 3
   },
   "file_extension": ".py",
   "mimetype": "text/x-python",
   "name": "python",
   "nbconvert_exporter": "python",
   "pygments_lexer": "ipython3",
   "version": "3.5.3"
  }
 },
 "nbformat": 4,
 "nbformat_minor": 2
}
